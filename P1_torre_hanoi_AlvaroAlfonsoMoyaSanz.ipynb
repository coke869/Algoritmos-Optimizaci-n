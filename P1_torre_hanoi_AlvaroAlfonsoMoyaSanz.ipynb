{
 "cells": [
  {
   "cell_type": "markdown",
   "id": "b871ba58-d94c-4c0c-9b6f-21d4e6202c68",
   "metadata": {},
   "source": [
    "# Algoritmos - Alvaro Alfonso moya Sanz - AG1"
   ]
  },
  {
   "cell_type": "code",
   "execution_count": 1,
   "id": "900bd461-38e9-4169-94f9-c4027ad89d70",
   "metadata": {},
   "outputs": [],
   "source": [
    "def torres_hanoi(N, origen, destino, pivote):\n",
    "    if N==1:\n",
    "        print(f\"Mover bloque desde {origen} a {destino}\")\n",
    "        return\n",
    "    torres_hanoi(N-1, origen,pivote,destino)\n",
    "    print(f\"Mover bloque desde {origen} a {destino}\")\n",
    "    torres_hanoi(N-1, pivote,destino,origen)\n"
   ]
  },
  {
   "cell_type": "code",
   "execution_count": 2,
   "id": "ac97418e-90ad-4981-ad56-fc95c0583298",
   "metadata": {},
   "outputs": [
    {
     "name": "stdout",
     "output_type": "stream",
     "text": [
      "Mover bloque desde 1 a 2\n",
      "Mover bloque desde 1 a 3\n",
      "Mover bloque desde 2 a 3\n",
      "Mover bloque desde 1 a 2\n",
      "Mover bloque desde 3 a 1\n",
      "Mover bloque desde 3 a 2\n",
      "Mover bloque desde 1 a 2\n",
      "Mover bloque desde 1 a 3\n",
      "Mover bloque desde 2 a 3\n",
      "Mover bloque desde 2 a 1\n",
      "Mover bloque desde 3 a 1\n",
      "Mover bloque desde 2 a 3\n",
      "Mover bloque desde 1 a 2\n",
      "Mover bloque desde 1 a 3\n",
      "Mover bloque desde 2 a 3\n"
     ]
    }
   ],
   "source": [
    "torres_hanoi(4,1,3,2)"
   ]
  },
  {
   "cell_type": "code",
   "execution_count": 5,
   "id": "f40086dc-1df5-4bb6-b7fb-4110fd83b122",
   "metadata": {},
   "outputs": [],
   "source": [
    "def cambio_moneda(cantidad,sistema):\n",
    "    print(\"Sistema: \")\n",
    "    print(sistema)\n",
    "    solucion= [0 for i in range(len(sistema))] #crea lista de ceros (tantos como la dimension del sistema\n",
    "    valor_acumulado = 0\n",
    "    for i in range(len(sistema)):\n",
    "        monedas=int((cantidad-valor_acumulado)/sistema[i])\n",
    "        solucion[i] = monedas\n",
    "        valor_acumulado += monedas*sistema[i]\n",
    "        if valor_acumulado == cantidad: break\n",
    "    return solucion"
   ]
  },
  {
   "cell_type": "code",
   "execution_count": 6,
   "id": "91278941-8962-4e75-9751-00f270b9505f",
   "metadata": {},
   "outputs": [
    {
     "name": "stdout",
     "output_type": "stream",
     "text": [
      "Sistema: \n",
      "[25, 10, 5, 1]\n"
     ]
    },
    {
     "data": {
      "text/plain": [
       "[2, 0, 0, 4]"
      ]
     },
     "execution_count": 6,
     "metadata": {},
     "output_type": "execute_result"
    }
   ],
   "source": [
    "sistema=[25,10,5,1]\n",
    "cambio_moneda(54, sistema)"
   ]
  },
  {
   "cell_type": "markdown",
   "id": "0723da0a-b810-4ef7-82a5-54db05c13c74",
   "metadata": {},
   "source": [
    "# Parte extra: Encontrar dos puntos mas cercanos"
   ]
  },
  {
   "cell_type": "markdown",
   "id": "ccef6444-330a-4102-bbff-54b6635290e4",
   "metadata": {},
   "source": [
    "Dado un conjunto de puntos se trata de encontrar los dos puntos más cercanos"
   ]
  },
  {
   "cell_type": "markdown",
   "id": "8375aee3-d46f-4f33-93c5-956d266e14e9",
   "metadata": {},
   "source": [
    "Suponer en 1D, o sea, una lista de números: [3403, 4537, 9089, 9746, 7259]. Primer intento: Fuerza bruta"
   ]
  },
  {
   "cell_type": "code",
   "execution_count": 11,
   "id": "95fc6d4a-f13e-4be5-aebf-d76e90ddb8db",
   "metadata": {},
   "outputs": [],
   "source": [
    "def puntos_cercanos_fuerza_bruta(lista):\n",
    "    punto1 = lista[0]\n",
    "    punto2 = lista[1]\n",
    "    distancia_minima = 100000000000\n",
    "\n",
    "    # Recorrer la lista de números\n",
    "    for i in range(len(lista) - 1):\n",
    "        for j in range(i + 1, len(lista)):\n",
    "            distancia = abs(lista[i] - lista[j])\n",
    "            if distancia < distancia_minima:\n",
    "                distancia_minima = distancia\n",
    "                punto1 = lista[i]\n",
    "                punto2 = lista[j]\n",
    "    return punto1, punto2\n"
   ]
  },
  {
   "cell_type": "code",
   "execution_count": 12,
   "id": "6eb71ae9-c768-4939-b61e-d019b1d48cae",
   "metadata": {},
   "outputs": [
    {
     "name": "stdout",
     "output_type": "stream",
     "text": [
      "Los dos puntos mas cercanos de la lista son: (21, 22)\n"
     ]
    }
   ],
   "source": [
    "lista_prueba = [1,21,32,44,6,56,78,89,77,34,22,3]\n",
    "resultado = puntos_cercanos_fuerza_bruta(lista_prueba)\n",
    "print(f'Los dos puntos mas cercanos de la lista son: {resultado}')"
   ]
  },
  {
   "cell_type": "markdown",
   "id": "51aaafa1-0bb1-4efc-83d4-ad807440f6a7",
   "metadata": {},
   "source": [
    "Calcular la complejidad. ¿Se puede mejorar?"
   ]
  },
  {
   "cell_type": "markdown",
   "id": "304f5dbb-cfb8-4f9f-824c-ed8cb0de9598",
   "metadata": {},
   "source": [
    "Fuerza bruta: Este algoritmo es de fuerza bruta, es dicor lo que hace es comparar cada par de puntos y encontrar la menor distancia. Se va comparando cada punto con todos los demás puntos y guardando la distancia mínima encontrada.\n",
    "Complejidad: La fuerza bruta tiene una complejidad de tiempo de O(n^2)."
   ]
  },
  {
   "cell_type": "markdown",
   "id": "8b47c9d4-0f78-493d-8bab-0becafd093d4",
   "metadata": {},
   "source": [
    "Si se puede mejorar, si lo que se hace como primer paso es ordenar la lista, con esto te quitas un bucle \"for\" y por lo tanto baja en uno el orden de complejidad , se queda en orden lineal de complejidad O(n)"
   ]
  },
  {
   "cell_type": "code",
   "execution_count": 13,
   "id": "67c39e2f-d7bc-4c65-84d7-df290a1a6291",
   "metadata": {},
   "outputs": [],
   "source": [
    "def puntos_cercanos_mejorado(lista):\n",
    "    # Ordenar la lista de números de forma ascendente\n",
    "    lista_ordenada = sorted(lista)\n",
    "    distancia_minima = 100000000000\n",
    "    \n",
    "    # Recorrer la lista de números\n",
    "    for i in range(len(lista_ordenada) - 1):\n",
    "        punto_actual = lista_ordenada[i]\n",
    "        punto_siguiente = lista_ordenada[i+1]\n",
    "\n",
    "        # Calcular la distancia entre los puntos adyacentes\n",
    "        distancia = abs(punto_siguiente - punto_actual)\n",
    "\n",
    "        # Actualizar los puntos más cercanos si se encuentra una distancia mínima menor\n",
    "        if distancia < distancia_minima:\n",
    "            distancia_minima = distancia\n",
    "            punto1 = punto_actual\n",
    "            punto2 = punto_siguiente\n",
    "\n",
    "    return punto1, punto2\n"
   ]
  },
  {
   "cell_type": "code",
   "execution_count": 15,
   "id": "fe86784d-76be-4be2-8c02-d91bfcfe27a8",
   "metadata": {},
   "outputs": [
    {
     "name": "stdout",
     "output_type": "stream",
     "text": [
      "Los dos puntos mas cercanos de la lista son: (21, 22)\n"
     ]
    }
   ],
   "source": [
    "lista_prueba = [1,21,32,44,6,56,78,89,77,34,22,3]\n",
    "resultado = puntos_cercanos_mejorado(lista_prueba)\n",
    "print(f'Los dos puntos mas cercanos de la lista son: {resultado}')"
   ]
  },
  {
   "cell_type": "markdown",
   "id": "8b988fff-343a-49c6-957f-65d6f015464a",
   "metadata": {},
   "source": [
    "Implementando este mismo algoritmo con la tecnica de divide y venceras su complejidad  es de O(n log n),"
   ]
  },
  {
   "cell_type": "code",
   "execution_count": null,
   "id": "09d90de4-9f25-44a5-b7a8-1018d08d8e96",
   "metadata": {},
   "outputs": [],
   "source": []
  }
 ],
 "metadata": {
  "kernelspec": {
   "display_name": "Python 3 (ipykernel)",
   "language": "python",
   "name": "python3"
  },
  "language_info": {
   "codemirror_mode": {
    "name": "ipython",
    "version": 3
   },
   "file_extension": ".py",
   "mimetype": "text/x-python",
   "name": "python",
   "nbconvert_exporter": "python",
   "pygments_lexer": "ipython3",
   "version": "3.10.9"
  }
 },
 "nbformat": 4,
 "nbformat_minor": 5
}
