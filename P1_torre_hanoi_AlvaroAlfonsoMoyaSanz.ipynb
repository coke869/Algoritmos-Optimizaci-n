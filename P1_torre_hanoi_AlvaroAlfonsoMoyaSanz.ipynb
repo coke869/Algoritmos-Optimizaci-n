{
 "cells": [
  {
   "cell_type": "markdown",
   "id": "b871ba58-d94c-4c0c-9b6f-21d4e6202c68",
   "metadata": {},
   "source": [
    "Algoritmos - Alvaro Alfonso moya Sanz - AG1"
   ]
  },
  {
   "cell_type": "code",
   "execution_count": 1,
   "id": "900bd461-38e9-4169-94f9-c4027ad89d70",
   "metadata": {},
   "outputs": [],
   "source": [
    "def torres_hanoi(N, origen, destino, pivote):\n",
    "    if N==1:\n",
    "        print(f\"Mover bloque desde {origen} a {destino}\")\n",
    "        return\n",
    "    torres_hanoi(N-1, origen,pivote,destino)\n",
    "    print(f\"Mover bloque desde {origen} a {destino}\")\n",
    "    torres_hanoi(N-1, pivote,destino,origen)\n"
   ]
  },
  {
   "cell_type": "code",
   "execution_count": 2,
   "id": "ac97418e-90ad-4981-ad56-fc95c0583298",
   "metadata": {},
   "outputs": [
    {
     "name": "stdout",
     "output_type": "stream",
     "text": [
      "Mover bloque desde 1 a 2\n",
      "Mover bloque desde 1 a 3\n",
      "Mover bloque desde 2 a 3\n",
      "Mover bloque desde 1 a 2\n",
      "Mover bloque desde 3 a 1\n",
      "Mover bloque desde 3 a 2\n",
      "Mover bloque desde 1 a 2\n",
      "Mover bloque desde 1 a 3\n",
      "Mover bloque desde 2 a 3\n",
      "Mover bloque desde 2 a 1\n",
      "Mover bloque desde 3 a 1\n",
      "Mover bloque desde 2 a 3\n",
      "Mover bloque desde 1 a 2\n",
      "Mover bloque desde 1 a 3\n",
      "Mover bloque desde 2 a 3\n"
     ]
    }
   ],
   "source": [
    "torres_hanoi(4,1,3,2)"
   ]
  },
  {
   "cell_type": "code",
   "execution_count": 5,
   "id": "f40086dc-1df5-4bb6-b7fb-4110fd83b122",
   "metadata": {},
   "outputs": [],
   "source": [
    "def cambio_moneda(cantidad,sistema):\n",
    "    print(\"Sistema: \")\n",
    "    print(sistema)\n",
    "    solucion= [0 for i in range(len(sistema))] #crea lista de ceros (tantos como la dimension del sistema\n",
    "    valor_acumulado = 0\n",
    "    for i in range(len(sistema)):\n",
    "        monedas=int((cantidad-valor_acumulado)/sistema[i])\n",
    "        solucion[i] = monedas\n",
    "        valor_acumulado += monedas*sistema[i]\n",
    "        if valor_acumulado == cantidad: break\n",
    "    return solucion"
   ]
  },
  {
   "cell_type": "code",
   "execution_count": 6,
   "id": "91278941-8962-4e75-9751-00f270b9505f",
   "metadata": {},
   "outputs": [
    {
     "name": "stdout",
     "output_type": "stream",
     "text": [
      "Sistema: \n",
      "[25, 10, 5, 1]\n"
     ]
    },
    {
     "data": {
      "text/plain": [
       "[2, 0, 0, 4]"
      ]
     },
     "execution_count": 6,
     "metadata": {},
     "output_type": "execute_result"
    }
   ],
   "source": [
    "sistema=[25,10,5,1]\n",
    "cambio_moneda(54, sistema)"
   ]
  },
  {
   "cell_type": "code",
   "execution_count": null,
   "id": "384b1c97-b2df-4ac6-8655-7b0da3bfc0a9",
   "metadata": {},
   "outputs": [],
   "source": []
  },
  {
   "cell_type": "code",
   "execution_count": null,
   "id": "1817b1e3-3ddb-4a01-937f-308c3484b646",
   "metadata": {},
   "outputs": [],
   "source": []
  },
  {
   "cell_type": "code",
   "execution_count": null,
   "id": "b1703f7e-81f7-45aa-92be-ea28bec7558d",
   "metadata": {},
   "outputs": [],
   "source": []
  },
  {
   "cell_type": "code",
   "execution_count": null,
   "id": "67c39e2f-d7bc-4c65-84d7-df290a1a6291",
   "metadata": {},
   "outputs": [],
   "source": []
  },
  {
   "cell_type": "code",
   "execution_count": null,
   "id": "fe86784d-76be-4be2-8c02-d91bfcfe27a8",
   "metadata": {},
   "outputs": [],
   "source": []
  }
 ],
 "metadata": {
  "kernelspec": {
   "display_name": "Python 3 (ipykernel)",
   "language": "python",
   "name": "python3"
  },
  "language_info": {
   "codemirror_mode": {
    "name": "ipython",
    "version": 3
   },
   "file_extension": ".py",
   "mimetype": "text/x-python",
   "name": "python",
   "nbconvert_exporter": "python",
   "pygments_lexer": "ipython3",
   "version": "3.10.9"
  }
 },
 "nbformat": 4,
 "nbformat_minor": 5
}
