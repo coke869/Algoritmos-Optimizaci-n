{
 "cells": [
  {
   "cell_type": "markdown",
   "id": "d59efbd4-e922-490c-b48b-26aed8c44f48",
   "metadata": {},
   "source": [
    "Algoritmos - Alvaro Alfonso moya Sanz - AG3"
   ]
  },
  {
   "cell_type": "code",
   "execution_count": 2,
   "id": "acd74497-5dd3-4945-8d09-3518c65e351a",
   "metadata": {},
   "outputs": [
    {
     "name": "stdout",
     "output_type": "stream",
     "text": [
      "Requirement already satisfied: requests in /Users/Coke/anaconda3/lib/python3.10/site-packages (2.28.1)\n",
      "Requirement already satisfied: idna<4,>=2.5 in /Users/Coke/anaconda3/lib/python3.10/site-packages (from requests) (3.4)\n",
      "Requirement already satisfied: charset-normalizer<3,>=2 in /Users/Coke/anaconda3/lib/python3.10/site-packages (from requests) (2.0.4)\n",
      "Requirement already satisfied: urllib3<1.27,>=1.21.1 in /Users/Coke/anaconda3/lib/python3.10/site-packages (from requests) (1.26.14)\n",
      "Requirement already satisfied: certifi>=2017.4.17 in /Users/Coke/anaconda3/lib/python3.10/site-packages (from requests) (2023.5.7)\n",
      "Requirement already satisfied: tsplib95 in /Users/Coke/anaconda3/lib/python3.10/site-packages (0.7.1)\n",
      "Requirement already satisfied: Deprecated~=1.2.9 in /Users/Coke/anaconda3/lib/python3.10/site-packages (from tsplib95) (1.2.14)\n",
      "Requirement already satisfied: tabulate~=0.8.7 in /Users/Coke/anaconda3/lib/python3.10/site-packages (from tsplib95) (0.8.10)\n",
      "Requirement already satisfied: Click>=6.0 in /Users/Coke/anaconda3/lib/python3.10/site-packages (from tsplib95) (8.0.4)\n",
      "Requirement already satisfied: networkx~=2.1 in /Users/Coke/anaconda3/lib/python3.10/site-packages (from tsplib95) (2.8.4)\n",
      "Requirement already satisfied: wrapt<2,>=1.10 in /Users/Coke/anaconda3/lib/python3.10/site-packages (from Deprecated~=1.2.9->tsplib95) (1.14.1)\n"
     ]
    }
   ],
   "source": [
    "!pip install requests    #Hacer llamadas http a paginas de la red\n",
    "!pip install tsplib95    #Modulo para las instancias del problema del TSP"
   ]
  },
  {
   "cell_type": "code",
   "execution_count": 3,
   "id": "c618ced8-a6c5-4d52-ada2-f68a1c819125",
   "metadata": {},
   "outputs": [],
   "source": [
    "import urllib.request #Hacer llamadas http a paginas de la red\n",
    "import tsplib95       #Modulo para las instancias del problema del TSP\n",
    "import math           #Modulo de funciones matematicas. Se usa para exp\n",
    "import random                     #Para generar valores aleatorios\n",
    "\n",
    "#Descargamos el fichero de datos(Matriz de distancias)\n",
    "file = \"swiss42.tsp\" ;\n",
    "urllib.request.urlretrieve(\"http://comopt.ifi.uni-heidelberg.de/software/TSPLIB95/tsp/swiss42.tsp.gz\", file + '.gz')\n",
    "!gzip -d swiss42.tsp.gz     #Descomprimir el fichero de datos"
   ]
  },
  {
   "cell_type": "code",
   "execution_count": 6,
   "id": "b85f0df2-5d2e-4b04-aed2-8b8f80b7477e",
   "metadata": {},
   "outputs": [
    {
     "name": "stdout",
     "output_type": "stream",
     "text": [
      "1764\n"
     ]
    }
   ],
   "source": [
    "#Carga de datos y generación de objeto problem\n",
    "###############################################################################\n",
    "problem = tsplib95.load(file)\n",
    "\n",
    "#Nodos\n",
    "Nodos = list(problem.get_nodes())\n",
    "\n",
    "#Aristas\n",
    "Aristas = list(problem.get_edges())\n",
    "print(len(Aristas))"
   ]
  },
  {
   "cell_type": "code",
   "execution_count": 8,
   "id": "60601fa5-9703-4095-bb58-998c49eda444",
   "metadata": {},
   "outputs": [
    {
     "data": {
      "text/plain": [
       "15"
      ]
     },
     "execution_count": 8,
     "metadata": {},
     "output_type": "execute_result"
    }
   ],
   "source": [
    "#Probamos algunas funciones del objeto problem\n",
    "\n",
    "#Distancia entre nodos\n",
    "problem.get_weight(0, 1)\n",
    "\n",
    "#Todas las funciones\n",
    "#Documentación: https://tsplib95.readthedocs.io/en/v0.6.1/modules.html\n",
    "\n",
    "#dir(problem)"
   ]
  },
  {
   "cell_type": "code",
   "execution_count": 10,
   "id": "097ec833-2044-446a-9e85-94433979f3c5",
   "metadata": {},
   "outputs": [],
   "source": [
    "#Funcionas basicas\n",
    "###############################################################################\n",
    "\n",
    "#Se genera una solucion aleatoria con comienzo en en el nodo 0\n",
    "def crear_solucion(Nodos):\n",
    "  solucion = [Nodos[0]]\n",
    "  for n in Nodos[1:]:\n",
    "    solucion = solucion + [random.choice(list(set(Nodos) - set({Nodos[0]}) - set(solucion)))]\n",
    "  return solucion\n",
    "\n",
    "#Devuelve la distancia entre dos nodos\n",
    "def distancia(a,b, problem):\n",
    "  return problem.get_weight(a,b)\n",
    "\n",
    "#Devuelve la distancia total de una trayectoria/solucion\n",
    "def distancia_total(solucion, problem):\n",
    "  distancia_total = 0\n",
    "  for i in range(len(solucion)-1):\n",
    "    distancia_total += distancia(solucion[i] ,solucion[i+1] ,  problem)\n",
    "  return distancia_total + distancia(solucion[len(solucion)-1] ,solucion[0], problem)"
   ]
  },
  {
   "cell_type": "code",
   "execution_count": 16,
   "id": "f8898cb2-fcd0-4f7e-bc1e-857d3225a1d0",
   "metadata": {},
   "outputs": [
    {
     "name": "stdout",
     "output_type": "stream",
     "text": [
      "Mejor solución: [0, 7, 32, 30, 27, 11, 15, 14, 6, 31, 33, 36, 17, 38, 25, 35, 37, 13, 24, 23, 39, 22, 8, 9, 2, 26, 1, 3, 16, 5, 12, 19, 20, 34, 4, 29, 41, 28, 40, 21, 10, 18]\n",
      "Distancia     : 3588\n"
     ]
    }
   ],
   "source": [
    "###############################################################################\n",
    "# BUSQUEDA ALEATORIA\n",
    "###############################################################################\n",
    "\n",
    "def busqueda_aleatoria(problem, N):\n",
    "  #N es el numero de iteraciones\n",
    "  Nodos = list(problem.get_nodes())\n",
    "\n",
    "  mejor_solucion = []\n",
    "  #mejor_distancia = 10e100                         #Inicializamos con un valor alto\n",
    "  mejor_distancia = float('inf')                    #Inicializamos con un valor alto\n",
    "\n",
    "  for i in range(N):                                #Criterio de parada: repetir N veces pero podemos incluir otros\n",
    "    solucion = crear_solucion(Nodos)                #Genera una solucion aleatoria\n",
    "    distancia = distancia_total(solucion, problem)  #Calcula el valor objetivo(distancia total)\n",
    "\n",
    "    if distancia < mejor_distancia:                 #Compara con la mejor obtenida hasta ahora\n",
    "      mejor_solucion = solucion\n",
    "      mejor_distancia = distancia\n",
    "\n",
    "\n",
    "  print(\"Mejor solución:\" , mejor_solucion)\n",
    "  print(\"Distancia     :\" , mejor_distancia)\n",
    "  return mejor_solucion\n",
    "\n",
    "\n",
    "#Busqueda aleatoria con 5000 iteraciones\n",
    "solucion = busqueda_aleatoria(problem, 10000)"
   ]
  },
  {
   "cell_type": "code",
   "execution_count": 19,
   "id": "bdb62ff6-fe8a-4e95-87e0-4dfbcd427c05",
   "metadata": {},
   "outputs": [
    {
     "name": "stdout",
     "output_type": "stream",
     "text": [
      "Distancia Solucion Incial: 3588\n",
      "Distancia Mejor Solucion Local: 3366\n"
     ]
    }
   ],
   "source": [
    "###############################################################################\n",
    "# BUSQUEDA LOCAL\n",
    "###############################################################################\n",
    "def genera_vecina(solucion):\n",
    "  #Generador de soluciones vecinas: 2-opt (intercambiar 2 nodos) Si hay N nodos se generan (N-1)x(N-2)/2 soluciones\n",
    "  #Se puede modificar para aplicar otros generadores distintos que 2-opt\n",
    "  #print(solucion)\n",
    "  mejor_solucion = []\n",
    "  mejor_distancia = 10e100\n",
    "  for i in range(1,len(solucion)-1):          #Recorremos todos los nodos en bucle doble para evaluar todos los intercambios 2-opt\n",
    "    for j in range(i+1, len(solucion)):\n",
    "\n",
    "      #Se genera una nueva solución intercambiando los dos nodos i,j:\n",
    "      #  (usamos el operador + que para listas en python las concatena) : ej.: [1,2] + [3] = [1,2,3]\n",
    "      vecina = solucion[:i] + [solucion[j]] + solucion[i+1:j] + [solucion[i]] + solucion[j+1:]\n",
    "\n",
    "      #Se evalua la nueva solución ...\n",
    "      distancia_vecina = distancia_total(vecina, problem)\n",
    "\n",
    "      #... para guardarla si mejora las anteriores\n",
    "      if distancia_vecina <= mejor_distancia:\n",
    "        mejor_distancia = distancia_vecina\n",
    "        mejor_solucion = vecina\n",
    "  return mejor_solucion\n",
    "\n",
    "\n",
    "#solucion = [1, 47, 13, 41, 40, 19, 42, 44, 37, 5, 22, 28, 3, 2, 29, 21, 50, 34, 30, 9, 16, 11, 38, 49, 10, 39, 33, 45, 15, 24, 43, 26, 31, 36, 35, 20, 8, 7, 23, 48, 27, 12, 17, 4, 18, 25, 14, 6, 51, 46, 32]\n",
    "print(\"Distancia Solucion Incial:\" , distancia_total(solucion, problem))\n",
    "\n",
    "\n",
    "nueva_solucion = genera_vecina(solucion)\n",
    "print(\"Distancia Mejor Solucion Local:\", distancia_total(nueva_solucion, problem))"
   ]
  },
  {
   "cell_type": "code",
   "execution_count": 18,
   "id": "b9a4233c-c8cc-4d73-814f-2fb46a38c663",
   "metadata": {},
   "outputs": [
    {
     "name": "stdout",
     "output_type": "stream",
     "text": [
      "En la iteracion  35 , la mejor solución encontrada es: [0, 6, 26, 5, 13, 19, 16, 15, 14, 18, 12, 11, 25, 10, 8, 41, 23, 9, 21, 40, 24, 39, 22, 38, 34, 33, 20, 32, 30, 29, 28, 2, 27, 3, 4, 37, 17, 36, 35, 31, 7, 1]\n",
      "Distancia     : 1466\n"
     ]
    }
   ],
   "source": [
    "#Busqueda Local:\n",
    "#  - Sobre el operador de vecindad 2-opt(funcion genera_vecina)\n",
    "#  - Sin criterio de parada, se para cuando no es posible mejorar.\n",
    "def busqueda_local(problem):\n",
    "  mejor_solucion = []\n",
    "\n",
    "  #Generar una solucion inicial de referencia(aleatoria)\n",
    "  solucion_referencia = crear_solucion(Nodos)\n",
    "  mejor_distancia = distancia_total(solucion_referencia, problem)\n",
    "\n",
    "  iteracion=0             #Un contador para saber las iteraciones que hacemos\n",
    "  while(1):\n",
    "    iteracion +=1         #Incrementamos el contador\n",
    "    #print('#',iteracion)\n",
    "\n",
    "    #Obtenemos la mejor vecina ...\n",
    "    vecina = genera_vecina(solucion_referencia)\n",
    "\n",
    "    #... y la evaluamos para ver si mejoramos respecto a lo encontrado hasta el momento\n",
    "    distancia_vecina = distancia_total(vecina, problem)\n",
    "\n",
    "    #Si no mejoramos hay que terminar. Hemos llegado a un minimo local(según nuestro operador de vencindad 2-opt)\n",
    "    if distancia_vecina < mejor_distancia:\n",
    "      #mejor_solucion = copy.deepcopy(vecina)   #Con copia profunda. Las copias en python son por referencia\n",
    "      mejor_solucion = vecina                   #Guarda la mejor solución encontrada\n",
    "      mejor_distancia = distancia_vecina\n",
    "\n",
    "    else:\n",
    "      print(\"En la iteracion \", iteracion, \", la mejor solución encontrada es:\" , mejor_solucion)\n",
    "      print(\"Distancia     :\" , mejor_distancia)\n",
    "      return mejor_solucion\n",
    "\n",
    "    solucion_referencia = vecina\n",
    "\n",
    "\n",
    "sol = busqueda_local(problem )"
   ]
  },
  {
   "cell_type": "code",
   "execution_count": null,
   "id": "c94becc7-cb81-484e-96c9-2932d37b83eb",
   "metadata": {},
   "outputs": [],
   "source": []
  }
 ],
 "metadata": {
  "kernelspec": {
   "display_name": "Python 3 (ipykernel)",
   "language": "python",
   "name": "python3"
  },
  "language_info": {
   "codemirror_mode": {
    "name": "ipython",
    "version": 3
   },
   "file_extension": ".py",
   "mimetype": "text/x-python",
   "name": "python",
   "nbconvert_exporter": "python",
   "pygments_lexer": "ipython3",
   "version": "3.10.9"
  }
 },
 "nbformat": 4,
 "nbformat_minor": 5
}
